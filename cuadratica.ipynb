{
 "cells": [
  {
   "cell_type": "code",
   "execution_count": 1,
   "metadata": {},
   "outputs": [],
   "source": [
    "#-*- coding: utf-8 -*-\n",
    "#Programa: Cuadratica.py\n",
    "#@autor: @programacionUdec - logprog1\n",
    "#Programa para calcular las soluciones de la ecuacion \n",
    "#cuadratica ax**2 + bx + c = 0 donde a, b y c son numeros\n",
    "#reales con a diferente de 0\n",
    "#Creado el Mcles 4 de Sep 2019"
   ]
  },
  {
   "cell_type": "code",
   "execution_count": 2,
   "metadata": {},
   "outputs": [],
   "source": [
    "# Cargar la libreria de operaciones matemáticas con complejos\n",
    "import cmath\n",
    "\n",
    "a = 1\n",
    "b = 7\n",
    "c = 56\n",
    "\n",
    "# Si el usuario va a digitar los coeficientes\n",
    "# print(\"Resolucion de la ecuacion cuadratica ax**2 + bx + c = 0 donde a, b y c son numeros reales\")\n",
    "# a = float(input('Digitar a: '))\n",
    "# b = float(input('Digitar b: '))\n",
    "# c = float(input('Digitar c: '))\n"
   ]
  },
  {
   "cell_type": "code",
   "execution_count": 3,
   "metadata": {},
   "outputs": [],
   "source": [
    "# calculando el discriminante\n",
    "d = (b**2) - (4*a*c)"
   ]
  },
  {
   "cell_type": "code",
   "execution_count": 4,
   "metadata": {},
   "outputs": [],
   "source": [
    "sol1 = (-b-cmath.sqrt(d))/(2*a)\n",
    "sol2 = (-b+cmath.sqrt(d))/(2*a)"
   ]
  },
  {
   "cell_type": "code",
   "execution_count": 5,
   "metadata": {},
   "outputs": [
    {
     "name": "stdout",
     "output_type": "stream",
     "text": [
      "Las soluciones son (-3.5-6.614378277661476j) and (-3.5+6.614378277661476j)\n"
     ]
    }
   ],
   "source": [
    "print('Las soluciones son {0} and {1}'.format(sol1,sol2))"
   ]
  },
  {
   "cell_type": "code",
   "execution_count": null,
   "metadata": {},
   "outputs": [],
   "source": []
  }
 ],
 "metadata": {
  "kernelspec": {
   "display_name": "Python 3",
   "language": "python",
   "name": "python3"
  },
  "language_info": {
   "codemirror_mode": {
    "name": "ipython",
    "version": 3
   },
   "file_extension": ".py",
   "mimetype": "text/x-python",
   "name": "python",
   "nbconvert_exporter": "python",
   "pygments_lexer": "ipython3",
   "version": "3.6.8"
  }
 },
 "nbformat": 4,
 "nbformat_minor": 4
}
