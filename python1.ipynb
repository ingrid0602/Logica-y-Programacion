{
 "cells": [
  {
   "cell_type": "code",
   "execution_count": 1,
   "metadata": {},
   "outputs": [],
   "source": [
    "# -*- coding: utf-8 -*-\n",
    "#Programa: python1.py\n",
    "#@autor: @programacionUdec - logprog1\n",
    "#Propósito: Calcula el perı́metro y el área de un rectángulo a partir\n",
    "#           de su altura y anchura.\n",
    "#Creado el Lunes 9 de Sep 2019"
   ]
  },
  {
   "cell_type": "code",
   "execution_count": 2,
   "metadata": {},
   "outputs": [
    {
     "name": "stdin",
     "output_type": "stream",
     "text": [
      " 4\n"
     ]
    },
    {
     "name": "stdout",
     "output_type": "stream",
     "text": [
      "4\n"
     ]
    }
   ],
   "source": [
    "#obtener un texto\n",
    "texto_capturado=input()\n",
    "print(texto_capturado)\n",
    "#notan que el usuario no tiene pistas acerca de una entrada?"
   ]
  },
  {
   "cell_type": "code",
   "execution_count": 3,
   "metadata": {},
   "outputs": [
    {
     "name": "stdout",
     "output_type": "stream",
     "text": [
      "Introduce un texto por favor:\n"
     ]
    },
    {
     "name": "stdin",
     "output_type": "stream",
     "text": [
      " gd\n"
     ]
    },
    {
     "name": "stdout",
     "output_type": "stream",
     "text": [
      "Este es el texto capturado: gd\n"
     ]
    }
   ],
   "source": [
    "print(\"Introduce un texto por favor:\")\n",
    "texto_capturado=input()\n",
    "print(\"Este es el texto capturado:\",texto_capturado)"
   ]
  },
  {
   "cell_type": "code",
   "execution_count": 4,
   "metadata": {},
   "outputs": [
    {
     "name": "stdout",
     "output_type": "stream",
     "text": [
      "Introduce un numero por favor:\n"
     ]
    },
    {
     "name": "stdin",
     "output_type": "stream",
     "text": [
      " 3\n"
     ]
    },
    {
     "name": "stdout",
     "output_type": "stream",
     "text": [
      "Este es el texto capturado: 3.0 numero multiplicado por dos 6.0\n"
     ]
    }
   ],
   "source": [
    "#capturar un texto y convertirlo en un numero\n",
    "print(\"Introduce un numero por favor:\")\n",
    "texto_capturado=input()\n",
    "numero=float(texto_capturado)\n",
    "print(\"Este es el texto capturado:\",numero, \"numero multiplicado por dos\",numero*2)\n",
    "#salidas con formato"
   ]
  },
  {
   "cell_type": "code",
   "execution_count": 7,
   "metadata": {},
   "outputs": [
    {
     "name": "stdout",
     "output_type": "stream",
     "text": [
      "Este programa recibe un numero e imprime las potencias 2, 3 y 4, \n",
      "\n",
      "Introduce un numero:\n"
     ]
    },
    {
     "name": "stdin",
     "output_type": "stream",
     "text": [
      " 8\n"
     ]
    },
    {
     "name": "stdout",
     "output_type": "stream",
     "text": [
      "Tipo de variable a procesar: <class 'int'>\n",
      "8  elevado a la  2  es  64\n",
      "8 elevado a 3 es 512\n",
      "8 elevado a 4 es 4096\n",
      "8 elevado a 5 es 32768\n"
     ]
    }
   ],
   "source": [
    "#salidas con formato\n",
    "print(\"Este programa recibe un numero e imprime las potencias 2, 3 y 4, \\n\")\n",
    "print(\"Introduce un numero:\")\n",
    "numero=int(input())\n",
    "print(\"Tipo de variable a procesar:\",type(numero))\n",
    "print(numero,\" elevado a la \",2, \" es \",numero**2)\n",
    "print('%d elevado a %d es %d'%( numero,3,numero**3))\n",
    "print(\"%d elevado a %d es %d\" %(numero,4,numero**4))\n",
    "print( \"%d elevado a %d es %d\"  % (numero,5,numero**5))"
   ]
  },
  {
   "cell_type": "code",
   "execution_count": null,
   "metadata": {},
   "outputs": [],
   "source": []
  },
  {
   "cell_type": "code",
   "execution_count": null,
   "metadata": {},
   "outputs": [],
   "source": []
  }
 ],
 "metadata": {
  "kernelspec": {
   "display_name": "Python 3",
   "language": "python",
   "name": "python3"
  },
  "language_info": {
   "codemirror_mode": {
    "name": "ipython",
    "version": 3
   },
   "file_extension": ".py",
   "mimetype": "text/x-python",
   "name": "python",
   "nbconvert_exporter": "python",
   "pygments_lexer": "ipython3",
   "version": "3.6.8"
  }
 },
 "nbformat": 4,
 "nbformat_minor": 4
}
