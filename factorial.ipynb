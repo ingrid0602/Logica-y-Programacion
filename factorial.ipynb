{
 "cells": [
  {
   "cell_type": "code",
   "execution_count": 1,
   "metadata": {},
   "outputs": [],
   "source": [
    "#-*- coding: utf-8 -*-\n",
    "#Programa: factorial.py\n",
    "#@autor: @programacionUdec - logprog1\n",
    "#Programa en python para calcular el factorial de un numero \n",
    "#digitado por el usuario\n",
    "#Creado el Mcles 4 de Sep 2019"
   ]
  },
  {
   "cell_type": "code",
   "execution_count": 15,
   "metadata": {},
   "outputs": [
    {
     "name": "stdin",
     "output_type": "stream",
     "text": [
      "Ingrese un numero:  5\n"
     ]
    },
    {
     "name": "stdout",
     "output_type": "stream",
     "text": [
      "El factorial de  5 es 120\n"
     ]
    }
   ],
   "source": [
    "numero = int(input(\"Ingrese un numero: \"))\n",
    "factorial = 1\n",
    "if numero < 0:\n",
    "   print(\"Revise por favor la definicion de factorial\")\n",
    "elif numero == 0:\n",
    "   print(\"El factorial de 0 is 1\")\n",
    "else:\n",
    "   for i in range(1,numero + 1):\n",
    "       factorial = factorial*i\n",
    "   print(\"El factorial de \",numero,\"es\",factorial)"
   ]
  },
  {
   "cell_type": "code",
   "execution_count": null,
   "metadata": {},
   "outputs": [],
   "source": []
  },
  {
   "cell_type": "code",
   "execution_count": null,
   "metadata": {},
   "outputs": [],
   "source": []
  }
 ],
 "metadata": {
  "kernelspec": {
   "display_name": "Python 3",
   "language": "python",
   "name": "python3"
  },
  "language_info": {
   "codemirror_mode": {
    "name": "ipython",
    "version": 3
   },
   "file_extension": ".py",
   "mimetype": "text/x-python",
   "name": "python",
   "nbconvert_exporter": "python",
   "pygments_lexer": "ipython3",
   "version": "3.6.8"
  }
 },
 "nbformat": 4,
 "nbformat_minor": 4
}
