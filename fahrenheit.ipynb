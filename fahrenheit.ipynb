{
 "cells": [
  {
   "cell_type": "code",
   "execution_count": 1,
   "metadata": {},
   "outputs": [],
   "source": [
    "# -*- coding: utf-8 -*-\n",
    "#Programa: rectangulo.py\n",
    "#@autor: @programacionUdec - logprog1\n",
    "#Propósito: cambia grados fahrenheit a celsius\n",
    "#Creado el Martes 10 de Sep 2019"
   ]
  },
  {
   "cell_type": "code",
   "execution_count": 4,
   "metadata": {},
   "outputs": [
    {
     "name": "stdin",
     "output_type": "stream",
     "text": [
      "introduzca la Temperatura en Fahrenheit: 45937.076\n"
     ]
    },
    {
     "name": "stdout",
     "output_type": "stream",
     "text": [
      "25502.82\n"
     ]
    }
   ],
   "source": [
    "# Peticion de los datos \n",
    "inp=input('introduzca la Temperatura en Fahrenheit:')\n",
    "try:\n",
    "    fahr=float(inp)\n",
    "    cel=(fahr-32.0)*5.0/9.0\n",
    "    print(cel)\n",
    "except:\n",
    "    print('Por favor, introduzca un número')"
   ]
  },
  {
   "cell_type": "code",
   "execution_count": null,
   "metadata": {},
   "outputs": [],
   "source": []
  }
 ],
 "metadata": {
  "kernelspec": {
   "display_name": "Python 3",
   "language": "python",
   "name": "python3"
  },
  "language_info": {
   "codemirror_mode": {
    "name": "ipython",
    "version": 3
   },
   "file_extension": ".py",
   "mimetype": "text/x-python",
   "name": "python",
   "nbconvert_exporter": "python",
   "pygments_lexer": "ipython3",
   "version": "3.6.8"
  }
 },
 "nbformat": 4,
 "nbformat_minor": 4
}
