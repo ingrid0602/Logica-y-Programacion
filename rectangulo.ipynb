{
 "cells": [
  {
   "cell_type": "code",
   "execution_count": 1,
   "metadata": {},
   "outputs": [],
   "source": [
    "# -*- coding: utf-8 -*-\n",
    "#Programa: rectangulo.py\n",
    "#@autor: @programacionUdec - logprog1\n",
    "#Propósito: Calcula el perı́metro y el área de un rectángulo a partir\n",
    "# de su altura y anchura.\n",
    "#Creado el Mcles 4 de Sep 2019"
   ]
  },
  {
   "cell_type": "code",
   "execution_count": 2,
   "metadata": {},
   "outputs": [
    {
     "name": "stdin",
     "output_type": "stream",
     "text": [
      "Dame la altura (en metros):  45.98\n",
      "Dame la anchura (en metros):  128754367.97654314\n"
     ]
    }
   ],
   "source": [
    "# Peticion de los datos (en metros)\n",
    "altura = float(input(\"Dame la altura (en metros): \"))\n",
    "anchura = float(input(\"Dame la anchura (en metros): \"))"
   ]
  },
  {
   "cell_type": "code",
   "execution_count": 3,
   "metadata": {},
   "outputs": [],
   "source": [
    "# Cálculo del área y del perimetro\n",
    "area = altura * anchura\n",
    "perimetro = 2 * altura + 2 * anchura"
   ]
  },
  {
   "cell_type": "code",
   "execution_count": 4,
   "metadata": {},
   "outputs": [
    {
     "name": "stdout",
     "output_type": "stream",
     "text": [
      "El perimetro es de 257508827.91 metros\n",
      "El area es de 5920125839.56 metros cuadrados\n"
     ]
    }
   ],
   "source": [
    "# Impresión de resultados por pantalla\n",
    "# %6.2f seis cifras enteras 2 cifras decimales\n",
    "print (\"El perimetro es de %6.2f metros\" %(perimetro)) # sólo dos decimales.\n",
    "print (\"El area es de %6.2f metros cuadrados\" % area)"
   ]
  },
  {
   "cell_type": "code",
   "execution_count": null,
   "metadata": {},
   "outputs": [],
   "source": []
  }
 ],
 "metadata": {
  "kernelspec": {
   "display_name": "Python 3",
   "language": "python",
   "name": "python3"
  },
  "language_info": {
   "codemirror_mode": {
    "name": "ipython",
    "version": 3
   },
   "file_extension": ".py",
   "mimetype": "text/x-python",
   "name": "python",
   "nbconvert_exporter": "python",
   "pygments_lexer": "ipython3",
   "version": "3.6.8"
  }
 },
 "nbformat": 4,
 "nbformat_minor": 4
}
