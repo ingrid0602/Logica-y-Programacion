{
 "cells": [
  {
   "cell_type": "code",
   "execution_count": 1,
   "metadata": {},
   "outputs": [],
   "source": [
    "#-*- coding: utf-8 -*-\n",
    "#Creado el Mcles 4 de Sep 2019\n",
    "#Creado el Mcles 4 de Sep 2019\n",
    "#@autor: @programacionUdec - logprog1\n",
    "#Programa para calcular la sucesion de Fibonacci hasta el termino \"terminos\""
   ]
  },
  {
   "cell_type": "code",
   "execution_count": 7,
   "metadata": {},
   "outputs": [],
   "source": [
    "# Cambiar este valor para ver diferentes resultados\n",
    "terminos = 12\n",
    "n1 = 0\n",
    "n2 = 1\n",
    "cuenta = 0"
   ]
  },
  {
   "cell_type": "code",
   "execution_count": 5,
   "metadata": {},
   "outputs": [
    {
     "name": "stdout",
     "output_type": "stream",
     "text": [
      "Sucesion de Fibonacci hasta el termino  50 :\n",
      "0,1,1,2,3,5,8,13,21,34,55,89,144,233,377,610,987,1597,2584,4181,6765,10946,17711,28657,46368,75025,121393,196418,317811,514229,832040,1346269,2178309,3524578,5702887,9227465,14930352,24157817,39088169,63245986,102334155,165580141,267914296,433494437,701408733,1134903170,1836311903,2971215073,4807526976,7778742049,"
     ]
    }
   ],
   "source": [
    "# verificar que el intervalo sea adecuado\n",
    "if terminos <= 0:\n",
    "   print(\"Ingrese un numero entero positivo:\")\n",
    "elif  terminos == 1:\n",
    "   print(\"Sucesion de Fibonacci hasta el termino \",terminos,\":\")\n",
    "   print(n1)\n",
    "else:\n",
    "   print(\"Sucesion de Fibonacci hasta el termino \",terminos,\":\")\n",
    "   while cuenta < terminos:\n",
    "       print(n1,end=',')\n",
    "       nth = n1 + n2\n",
    "       # Actualizar valores de la sucesion\n",
    "       n1 = n2\n",
    "       n2 = nth\n",
    "       cuenta += 1\n"
   ]
  },
  {
   "cell_type": "code",
   "execution_count": 12,
   "metadata": {},
   "outputs": [
    {
     "name": "stdout",
     "output_type": "stream",
     "text": [
      "[1, 2]\n"
     ]
    }
   ],
   "source": [
    "numero=2\n",
    "h=list(range(1,numero+1))\n",
    "print(h)"
   ]
  },
  {
   "cell_type": "code",
   "execution_count": 16,
   "metadata": {},
   "outputs": [
    {
     "name": "stdout",
     "output_type": "stream",
     "text": [
      "8.0 8 2.0\n"
     ]
    }
   ],
   "source": [
    "import math\n",
    "j=math.pow(2,3)\n",
    "print(j,2**3,math.sqrt(4))"
   ]
  },
  {
   "cell_type": "code",
   "execution_count": null,
   "metadata": {},
   "outputs": [],
   "source": []
  }
 ],
 "metadata": {
  "kernelspec": {
   "display_name": "Python 3",
   "language": "python",
   "name": "python3"
  },
  "language_info": {
   "codemirror_mode": {
    "name": "ipython",
    "version": 3
   },
   "file_extension": ".py",
   "mimetype": "text/x-python",
   "name": "python",
   "nbconvert_exporter": "python",
   "pygments_lexer": "ipython3",
   "version": "3.6.8"
  }
 },
 "nbformat": 4,
 "nbformat_minor": 4
}
