{
 "cells": [
  {
   "cell_type": "code",
   "execution_count": 2,
   "metadata": {},
   "outputs": [],
   "source": [
    "#-*- coding: utf-8 -*-\n",
    "#Programa: perimetro.py\n",
    "#@autor: @programacionUdec - logprog1\n",
    "#Propósito: revisar el tema de funciones, lectura y escritura de archivos, modulo numpy y mathplotlib\n",
    "#Creado el Mcles 30 de Oct 2019"
   ]
  },
  {
   "cell_type": "code",
   "execution_count": 21,
   "metadata": {},
   "outputs": [],
   "source": [
    "import random\n",
    "import numpy as np"
   ]
  },
  {
   "cell_type": "code",
   "execution_count": 10,
   "metadata": {},
   "outputs": [
    {
     "data": {
      "text/plain": [
       "0.38005416878931064"
      ]
     },
     "execution_count": 10,
     "metadata": {},
     "output_type": "execute_result"
    }
   ],
   "source": [
    "random.random()"
   ]
  },
  {
   "cell_type": "code",
   "execution_count": 16,
   "metadata": {},
   "outputs": [
    {
     "data": {
      "text/plain": [
       "5"
      ]
     },
     "execution_count": 16,
     "metadata": {},
     "output_type": "execute_result"
    }
   ],
   "source": [
    "random.randint(-3,10)"
   ]
  },
  {
   "cell_type": "code",
   "execution_count": 25,
   "metadata": {},
   "outputs": [
    {
     "name": "stdout",
     "output_type": "stream",
     "text": [
      "1 7\n"
     ]
    }
   ],
   "source": [
    "list=[1,4,2,6,7]\n",
    "random.choice(list)\n",
    "minimo=np.min(list)\n",
    "maximo=np.max(list)\n",
    "print(minimo,maximo)\n"
   ]
  },
  {
   "cell_type": "code",
   "execution_count": 31,
   "metadata": {},
   "outputs": [
    {
     "data": {
      "text/plain": [
       "58"
      ]
     },
     "execution_count": 31,
     "metadata": {},
     "output_type": "execute_result"
    }
   ],
   "source": [
    "def cuadrado(x,z):\n",
    "    y=x**2+z\n",
    "    return y\n",
    "    \n",
    "\n",
    "cuadrado(4.7,5)\n",
    "    "
   ]
  },
  {
   "cell_type": "code",
   "execution_count": 33,
   "metadata": {},
   "outputs": [
    {
     "name": "stdout",
     "output_type": "stream",
     "text": [
      "[ 0  1  2  3  4  5  6  7  8  9 10 11 12 13 14 15 16 17 18 19]\n"
     ]
    }
   ],
   "source": [
    "a=np.array(range(0,20))\n",
    "print(a)"
   ]
  },
  {
   "cell_type": "code",
   "execution_count": 39,
   "metadata": {},
   "outputs": [
    {
     "name": "stdout",
     "output_type": "stream",
     "text": [
      "[0 1 2 3 4] [ 0  1  4  9 16]\n"
     ]
    },
    {
     "data": {
      "image/png": "[encoded data removed]",
      "text/plain": [
       "<Figure size 432x288 with 1 Axes>"
      ]
     },
     "metadata": {
      "needs_background": "light"
     },
     "output_type": "display_data"
    }
   ],
   "source": [
    "import matplotlib.pyplot as cosita\n",
    "\n",
    "x=np.array(range(0,5))\n",
    "y= x**2\n",
    "print(x,y)\n",
    "\n",
    "cosita.plot(x,y)\n",
    "cosita.xlabel('eje x')\n",
    "cosita.ylabel('eje y')\n",
    "cosita.title('Título de la gráfica') \n",
    "cosita.show()"
   ]
  },
  {
   "cell_type": "code",
   "execution_count": 41,
   "metadata": {},
   "outputs": [
    {
     "name": "stdout",
     "output_type": "stream",
     "text": [
      "9.333333333333334 28\n"
     ]
    }
   ],
   "source": [
    "def funcion(x):\n",
    "    x=np.array(x)\n",
    "    y=x+2\n",
    "    return y\n",
    "\n",
    "promedio=np.mean(funcion([2,14,6]) )\n",
    "suma=np.sum(funcion([2,14,6]))\n",
    "\n",
    "print(promedio,suma)\n",
    "    "
   ]
  },
  {
   "cell_type": "code",
   "execution_count": 45,
   "metadata": {},
   "outputs": [
    {
     "name": "stdout",
     "output_type": "stream",
     "text": [
      "Retorna el promedio, minimo y maximo de una lista de numeros,la lista ingresada es:  [ 1 25 90]\n",
      "El promedio, minimio y maximo de su lista es:\n",
      "(38.666666666666664, 1, 90)\n"
     ]
    }
   ],
   "source": [
    "def estadistico(a): #estadisticos basicos incluyendo numpy\n",
    "    a=np.asarray(a)\n",
    "    print(\"Retorna el promedio, minimo y maximo de una lista de numeros,la lista ingresada es: \",a)\n",
    "    prom=sum(a)/len(a)\n",
    "    minimo=np.min(a)\n",
    "    maximo=np.max(a)\n",
    "    print(\"El promedio, minimio y maximo de su lista es:\")\n",
    "    return prom,minimo,maximo\n",
    "\n",
    "h=estadistico([1,25,90])\n",
    "\n",
    "print(h)\n",
    "\n",
    "reporte=np.savetxt(\"reporte.txt\",h) #escribe el archivo con los datos"
   ]
  },
  {
   "cell_type": "code",
   "execution_count": 67,
   "metadata": {},
   "outputs": [
    {
     "name": "stdout",
     "output_type": "stream",
     "text": [
      "190 0 9.5 9.5 [   0   90  142  240  312  495  522  812  664  765  930 1100 1068 1300\n",
      " 1134 1035 1008 1241 1620 2299]\n"
     ]
    }
   ],
   "source": [
    "leer=np.loadtxt(\"/Users/usuario-mac/Desktop/CLASES/programacion/3Corte/clase.dat\") #lee el archivo con los datos\n",
    "C1=np.asarray(leer[:,0], dtype=int)\n",
    "C2=np.asarray(leer[:,1], dtype=int)\n",
    "C3=np.array(leer[:,2])\n",
    "C4=np.array(leer[:,3])\n",
    "\n",
    "S=C1*C2\n",
    "\n",
    "print(sum(C1),np.min(C1),np.median(C1),np.mean(C1),S)\n",
    "\n"
   ]
  },
  {
   "cell_type": "code",
   "execution_count": 56,
   "metadata": {},
   "outputs": [
    {
     "data": {
      "text/plain": [
       "Text(0.5, 0, 'eje x')"
      ]
     },
     "execution_count": 56,
     "metadata": {},
     "output_type": "execute_result"
    },
    {
     "data": {
      "image/png": "[encoded data removed]",
      "text/plain": [
       "<Figure size 432x288 with 1 Axes>"
      ]
     },
     "metadata": {
      "needs_background": "light"
     },
     "output_type": "display_data"
    }
   ],
   "source": [
    "cosita.plot(C1, C3, linewidth=2.0)\n",
    "cosita.xlabel('eje x')"
   ]
  },
  {
   "cell_type": "code",
   "execution_count": 59,
   "metadata": {},
   "outputs": [
    {
     "data": {
      "text/plain": [
       "(array([4., 5., 6., 3., 2.]),\n",
       " array([ 63. ,  74.6,  86.2,  97.8, 109.4, 121. ]),\n",
       " <a list of 1 Patch objects>)"
      ]
     },
     "execution_count": 59,
     "metadata": {},
     "output_type": "execute_result"
    },
    {
     "data": {
      "image/png": "[encoded data removed]",
      "text/plain": [
       "<Figure size 432x288 with 1 Axes>"
      ]
     },
     "metadata": {
      "needs_background": "light"
     },
     "output_type": "display_data"
    }
   ],
   "source": [
    "cosita.hist(C2, label='clase', histtype='step', bins=5)#, log=True"
   ]
  },
  {
   "cell_type": "code",
   "execution_count": 66,
   "metadata": {},
   "outputs": [
    {
     "data": {
      "image/png": "[encoded data removed]",
      "text/plain": [
       "<Figure size 432x288 with 1 Axes>"
      ]
     },
     "metadata": {
      "needs_background": "light"
     },
     "output_type": "display_data"
    }
   ],
   "source": [
    "cosita.hist(C2, label='DATICOS', bins=5, log=True)\n",
    "cosita.xlabel('datos de x')\n",
    "cosita.title('Título de la gráfica')\n",
    "cosita.legend()\n",
    "\n",
    "cosita.savefig('1Grafica.png')"
   ]
  },
  {
   "cell_type": "code",
   "execution_count": null,
   "metadata": {},
   "outputs": [],
   "source": []
  },
  {
   "cell_type": "code",
   "execution_count": null,
   "metadata": {},
   "outputs": [],
   "source": []
  }
 ],
 "metadata": {
  "kernelspec": {
   "display_name": "Python 3",
   "language": "python",
   "name": "python3"
  },
  "language_info": {
   "codemirror_mode": {
    "name": "ipython",
    "version": 3
   },
   "file_extension": ".py",
   "mimetype": "text/x-python",
   "name": "python",
   "nbconvert_exporter": "python",
   "pygments_lexer": "ipython3",
   "version": "3.6.8"
  }
 },
 "nbformat": 4,
 "nbformat_minor": 4
}
